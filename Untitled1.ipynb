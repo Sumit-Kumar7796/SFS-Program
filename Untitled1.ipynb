{
  "nbformat": 4,
  "nbformat_minor": 0,
  "metadata": {
    "colab": {
      "name": "Untitled1.ipynb",
      "provenance": [],
      "collapsed_sections": [],
      "authorship_tag": "ABX9TyNqlIwuHNL8VkrRtXHCcBog",
      "include_colab_link": true
    },
    "kernelspec": {
      "name": "python3",
      "display_name": "Python 3"
    }
  },
  "cells": [
    {
      "cell_type": "markdown",
      "metadata": {
        "id": "view-in-github",
        "colab_type": "text"
      },
      "source": [
        "<a href=\"https://colab.research.google.com/github/Sumit-Kumar7796/SFS-Program/blob/master/Untitled1.ipynb\" target=\"_parent\"><img src=\"https://colab.research.google.com/assets/colab-badge.svg\" alt=\"Open In Colab\"/></a>"
      ]
    },
    {
      "cell_type": "markdown",
      "metadata": {
        "id": "Ex-YZh8Kdjm5",
        "colab_type": "text"
      },
      "source": [
        "# Welcome to Python 3 Notebook"
      ]
    },
    {
      "cell_type": "code",
      "metadata": {
        "id": "YJp8pB54dTVt",
        "colab_type": "code",
        "colab": {}
      },
      "source": [
        ""
      ],
      "execution_count": 0,
      "outputs": []
    },
    {
      "cell_type": "markdown",
      "metadata": {
        "id": "jN62sTcvjU3h",
        "colab_type": "text"
      },
      "source": [
        "#program to generate 2 numbers and add them."
      ]
    },
    {
      "cell_type": "code",
      "metadata": {
        "id": "BjlzmNTxd8Gn",
        "colab_type": "code",
        "colab": {
          "base_uri": "https://localhost:8080/",
          "height": 67
        },
        "outputId": "fd64f0fe-6bbb-4bea-92ca-6967bf05ea91"
      },
      "source": [
        "import random\n",
        "a = random.randrange(2,10)\n",
        "b = random.randrange(7,15)\n",
        "print (a)\n",
        "print(b)\n",
        "print(int(a)+int(b))\n",
        "\n"
      ],
      "execution_count": 5,
      "outputs": [
        {
          "output_type": "stream",
          "text": [
            "4\n",
            "13\n",
            "17\n"
          ],
          "name": "stdout"
        }
      ]
    },
    {
      "cell_type": "markdown",
      "metadata": {
        "id": "PZPnJoUjjS7V",
        "colab_type": "text"
      },
      "source": [
        "#Program to generate Factorial of an integer"
      ]
    },
    {
      "cell_type": "code",
      "metadata": {
        "id": "33FsMYX8ej8Y",
        "colab_type": "code",
        "colab": {
          "base_uri": "https://localhost:8080/",
          "height": 67
        },
        "outputId": "e0a6edcf-101b-4073-8b80-14bffc1592d5"
      },
      "source": [
        "\n",
        "print(\"Enter any integer.\")\n",
        "a= int(input())\n",
        "sum=1\n",
        "for i in range(a,1,-1):\n",
        "  sum=sum*a\n",
        "  a=a-1\n",
        "print (sum)\n"
      ],
      "execution_count": 25,
      "outputs": [
        {
          "output_type": "stream",
          "text": [
            "Enter any integer.\n",
            "6\n",
            "720\n"
          ],
          "name": "stdout"
        }
      ]
    },
    {
      "cell_type": "code",
      "metadata": {
        "id": "91ZnUQHMgDSk",
        "colab_type": "code",
        "colab": {
          "base_uri": "https://localhost:8080/",
          "height": 101
        },
        "outputId": "82de20b6-8c5f-422d-9ba2-78ced95c34c7"
      },
      "source": [
        "for i in range(1,5):\n",
        "  print(end=\" \"\"\\n\")\n",
        "  for j in range(i):\n",
        "    print(1,end=\" \")\n"
      ],
      "execution_count": 24,
      "outputs": [
        {
          "output_type": "stream",
          "text": [
            " \n",
            "1  \n",
            "1 1  \n",
            "1 1 1  \n",
            "1 1 1 1 "
          ],
          "name": "stdout"
        }
      ]
    },
    {
      "cell_type": "code",
      "metadata": {
        "id": "sq5Rtwslh7W2",
        "colab_type": "code",
        "colab": {}
      },
      "source": [
        ""
      ],
      "execution_count": 0,
      "outputs": []
    },
    {
      "cell_type": "markdown",
      "metadata": {
        "id": "aCLGzoiRjjYd",
        "colab_type": "text"
      },
      "source": [
        "#program for LIST"
      ]
    },
    {
      "cell_type": "code",
      "metadata": {
        "id": "hhK9xdWqjpBE",
        "colab_type": "code",
        "colab": {
          "base_uri": "https://localhost:8080/",
          "height": 34
        },
        "outputId": "bfc5230f-3430-40e8-a3e2-bb0a32ef2d20"
      },
      "source": [
        "x = [1,2,3,\"Hello\"]\n",
        "a= \"acm\"\n",
        "x.append(a)\n",
        "print(x)"
      ],
      "execution_count": 26,
      "outputs": [
        {
          "output_type": "stream",
          "text": [
            "[1, 2, 3, 'Hello', 'acm']\n"
          ],
          "name": "stdout"
        }
      ]
    },
    {
      "cell_type": "markdown",
      "metadata": {
        "id": "pmA4BG5BkRH7",
        "colab_type": "text"
      },
      "source": [
        "#Pandas Library\n",
        "In computer programming, pandas is a software library written for the Python programming language for data manipulation and analysis. In particular, it offers data structures and operations for manipulating numerical tables and time series. It is free software released under the three-clause BSD license The name is derived from the term \"panel data\", an econometrics term for data sets that include observations over multiple time periods for the same individuals.\n",
        "\n",
        "to read a file :  x = pd.read_file-extension(r(not necessary sometimes),\"file path.extension\")\n",
        "r = read\n",
        "d = dataframe\n",
        "w = write"
      ]
    },
    {
      "cell_type": "code",
      "metadata": {
        "id": "fk4w-Y7dkX0_",
        "colab_type": "code",
        "colab": {}
      },
      "source": [
        "import pandas as pd\n"
      ],
      "execution_count": 0,
      "outputs": []
    }
  ]
}